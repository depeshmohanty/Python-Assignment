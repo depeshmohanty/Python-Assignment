{
 "cells": [
  {
   "cell_type": "markdown",
   "metadata": {},
   "source": [
    "1. What is the relationship between def statements and lambda expressions ?"
   ]
  },
  {
   "cell_type": "raw",
   "metadata": {},
   "source": [
    "The only difference is that (a) the body of a lambda can consist of only a single expression, the result of which is\n",
    "returned from the function created and (b) a lambda expression is an expression which evaluates to a function object,\n",
    "while a def statement has no value, and creates a function object and binds it to a name."
   ]
  },
  {
   "cell_type": "markdown",
   "metadata": {},
   "source": [
    "2. What is the benefit of lambda?"
   ]
  },
  {
   "cell_type": "raw",
   "metadata": {},
   "source": [
    "The lambda keyword in Python provides a shortcut for declaring small anonymous functions. Lambda functions behave just\n",
    "like regular functions declared with the def keyword. They can be used whenever function objects are required."
   ]
  },
  {
   "cell_type": "markdown",
   "metadata": {},
   "source": [
    "3. Compare and contrast map, filter, and reduce."
   ]
  },
  {
   "cell_type": "raw",
   "metadata": {},
   "source": [
    "The map() function iterates through all items in the given iterable and executes the function we passed as an argument on each\n",
    "of them.\n",
    "\n",
    "filter() takes a function object and an iterable and creates a new list.\n",
    "As the name suggests, filter() forms a new list that contains only elements that satisfy a certain condition, \n",
    "i.e. the function we passed returns True.\n",
    "\n",
    "reduce() works differently than map() and filter(). It does not return a new list based on the function and iterable\n",
    "we've passed. Instead, it returns a single value"
   ]
  },
  {
   "cell_type": "markdown",
   "metadata": {},
   "source": [
    "4. What are function annotations, and how are they used?"
   ]
  },
  {
   "cell_type": "raw",
   "metadata": {},
   "source": [
    "Function annotations are completely optional both for parameters and return value. Function annotations provide a way of \n",
    "associating various parts of a function with arbitrary python expressions at compile time. "
   ]
  },
  {
   "cell_type": "markdown",
   "metadata": {},
   "source": [
    "5. What are recursive functions, and how are they used?"
   ]
  },
  {
   "cell_type": "raw",
   "metadata": {},
   "source": [
    "A recursive function is a function that calls itself during its execution. The process may repeat several times, outputting the\n",
    "result and the end of each iteration. e.g The function Count() uses recursion to count from any number between 1 and 9, to\n",
    "the number 10."
   ]
  },
  {
   "cell_type": "markdown",
   "metadata": {},
   "source": [
    "6. What are some general design guidelines for coding functions?"
   ]
  },
  {
   "cell_type": "raw",
   "metadata": {},
   "source": [
    "Safe: It can be used without causing harm.\n",
    "Secure: It can't be hacked.\n",
    "Reliable: It functions as it should, every time.\n",
    "Testable: It can be tested at the code level.\n",
    "Maintainable: It can be maintained, even as your codebase grows.\n",
    "Portable: It works the same in every environment."
   ]
  },
  {
   "cell_type": "markdown",
   "metadata": {},
   "source": [
    "7. Name three or more ways that functions can communicate results to a caller."
   ]
  },
  {
   "cell_type": "raw",
   "metadata": {},
   "source": [
    "When a function gets executed in the program, the execution control is transferred from calling a function to called function\n",
    "and executes function definition, and finally comes back to the calling function. In this process, both calling and called\n",
    "functions have to communicate with each other to exchange information."
   ]
  },
  {
   "cell_type": "code",
   "execution_count": null,
   "metadata": {},
   "outputs": [],
   "source": []
  }
 ],
 "metadata": {
  "kernelspec": {
   "display_name": "Python 3",
   "language": "python",
   "name": "python3"
  },
  "language_info": {
   "codemirror_mode": {
    "name": "ipython",
    "version": 3
   },
   "file_extension": ".py",
   "mimetype": "text/x-python",
   "name": "python",
   "nbconvert_exporter": "python",
   "pygments_lexer": "ipython3",
   "version": "3.7.4"
  }
 },
 "nbformat": 4,
 "nbformat_minor": 4
}
