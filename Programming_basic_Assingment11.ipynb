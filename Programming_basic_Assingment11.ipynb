{
 "cells": [
  {
   "cell_type": "markdown",
   "metadata": {},
   "source": [
    "1.\tWrite a Python program to find words which are greater than given length k?"
   ]
  },
  {
   "cell_type": "code",
   "execution_count": 1,
   "metadata": {},
   "outputs": [
    {
     "name": "stdout",
     "output_type": "stream",
     "text": [
      "Enter the string : my name is depeshkumar\n",
      "Enter k  (value for accepting string) : 4\n",
      "All words which are greater than given length  4 are  ['depeshkumar']\n"
     ]
    }
   ],
   "source": [
    "myStr =  input('Enter the string : ')\n",
    "k = int(input('Enter k  (value for accepting string) : '))\n",
    "largerStrings = []\n",
    "\n",
    "words = myStr.split(\" \")\n",
    "for word in words:\n",
    "    if len(word) > k:\n",
    "        largerStrings.append(word)\n",
    "\n",
    "# printing values\n",
    "print(\"All words which are greater than given length \", k, \"are \", largerStrings)"
   ]
  },
  {
   "cell_type": "markdown",
   "metadata": {},
   "source": [
    "2.\tWrite a Python program for removing i-th character from a string?"
   ]
  },
  {
   "cell_type": "code",
   "execution_count": 5,
   "metadata": {},
   "outputs": [
    {
     "name": "stdout",
     "output_type": "stream",
     "text": [
      "Pythnisgood\n"
     ]
    }
   ],
   "source": [
    "def remove_char(s, i):\n",
    "    a = s[ : i]\n",
    "    b = s[i + 1: ]\n",
    "\n",
    "    return a+b\n",
    "\n",
    "string = \"Pythonisgood\"\n",
    "\n",
    "i = 5\n",
    "print(remove_char(string,i-1))"
   ]
  },
  {
   "cell_type": "markdown",
   "metadata": {},
   "source": [
    "3.\tWrite a Python program to split and join a string?"
   ]
  },
  {
   "cell_type": "code",
   "execution_count": 4,
   "metadata": {},
   "outputs": [
    {
     "name": "stdout",
     "output_type": "stream",
     "text": [
      "Enter first String with space :: my name\n",
      "['my', 'name']\n",
      "Enter second String with (,) :: is depesh\n",
      "['is depesh']\n",
      "Enter third String with (:) :: kumar mohanty\n",
      "['kumar mohanty']\n",
      "Enter fourth String with (;) :: bhubaneswar odisha\n",
      "['bhubaneswar odisha']\n",
      "Enter fifth String without space :: india earth\n",
      "['in', 'di', 'a ', 'ea', 'rt', 'h']\n"
     ]
    }
   ],
   "source": [
    "str1=input(\"Enter first String with space :: \")\n",
    "print(str1.split())    #splits at space\n",
    "\n",
    "str2=input(\"Enter second String with (,) :: \")\n",
    "print(str2.split(','))    #splits at ','\n",
    "\n",
    "str3=input(\"Enter third String with (:) :: \")\n",
    "print(str3.split(':'))    #splits at ':'\n",
    "\n",
    "str4=input(\"Enter fourth String with (;) :: \")\n",
    "print(str4.split(';'))    #splits at ';'\n",
    "\n",
    "str5=input(\"Enter fifth String without space :: \")\n",
    "print([str5[i:i+2]for i in range(0,len(str5),2)])    #splits at position 2"
   ]
  },
  {
   "cell_type": "markdown",
   "metadata": {},
   "source": [
    "4.\tWrite a Python to check if a given string is binary string or not?"
   ]
  },
  {
   "cell_type": "code",
   "execution_count": 4,
   "metadata": {},
   "outputs": [
    {
     "name": "stdout",
     "output_type": "stream",
     "text": [
      "StringA is a binary string.\n",
      "StringB is not a binary string.\n"
     ]
    }
   ],
   "source": [
    "stringA = '0110101010111'\n",
    "b = {'0','1'}\n",
    "t = set(stringA)\n",
    "\n",
    "if b == t or t == {'0'} or t == {'1'}:\n",
    "    \n",
    "    print(\"StringA is a binary string.\")\n",
    "else:\n",
    "    print(\"StringA is not a binary string.\")\n",
    "\n",
    "stringB = '0120101010111'\n",
    "u = set(stringB)\n",
    "\n",
    "if b == u or u == {'0'} or u == {'1'}:\n",
    "    print(\"StringB is a binary string.\")\n",
    "else:\n",
    "    print(\"StringB is not a binary string.\")"
   ]
  },
  {
   "cell_type": "markdown",
   "metadata": {},
   "source": [
    "5.\tWrite a Python program to find uncommon words from two Strings?"
   ]
  },
  {
   "cell_type": "code",
   "execution_count": 5,
   "metadata": {},
   "outputs": [
    {
     "name": "stdout",
     "output_type": "stream",
     "text": [
      "['mango', 'peach']\n"
     ]
    }
   ],
   "source": [
    "def uncommon(s1,s2):\n",
    "  s1=s1.split()\n",
    "  s2=s2.split()\n",
    "  k=set(s1).symmetric_difference(set(s2))\n",
    "  return k\n",
    "\n",
    "a = \"berry mango cherry\"\n",
    "b = \"berry peach cherry\"\n",
    "print(list(uncommon(a,b)))"
   ]
  },
  {
   "cell_type": "markdown",
   "metadata": {},
   "source": [
    "6.\tWrite a Python to find all duplicate characters in string?"
   ]
  },
  {
   "cell_type": "code",
   "execution_count": 11,
   "metadata": {},
   "outputs": [
    {
     "name": "stdout",
     "output_type": "stream",
     "text": [
      "t o i\n"
     ]
    }
   ],
   "source": [
    "## initializing string\n",
    "string = \"tutorialspoint\"\n",
    "## initializing a list to append all the duplicate characters\n",
    "duplicates = []\n",
    "for char in string:\n",
    "   ## checking whether the character have a duplicate or not\n",
    "   ## str.count(char) returns the frequency of a char in the str\n",
    "    if string.count(char) > 1:\n",
    "        \n",
    "   ## appending to the list if it's already not present\n",
    "        if char not in duplicates:\n",
    "           duplicates.append(char)\n",
    "print(*duplicates)"
   ]
  },
  {
   "cell_type": "markdown",
   "metadata": {},
   "source": [
    "7.\tWrite a Python Program to check if a string contains any special character?"
   ]
  },
  {
   "cell_type": "code",
   "execution_count": 21,
   "metadata": {},
   "outputs": [
    {
     "name": "stdout",
     "output_type": "stream",
     "text": [
      "Enter any string:  Pyth@n\n",
      "The string contains special characters.\n"
     ]
    }
   ],
   "source": [
    "import re\n",
    "\n",
    "# take inputs\n",
    "string = input('Enter any string: ')\n",
    "\n",
    "# check string contains special characters or not\n",
    "if(bool(re.match('^[a-zA-Z0-9]*$', string)) == True):\n",
    "    print('String does not contain any special characters.')\n",
    "else:\n",
    "    print('The string contains special characters.')"
   ]
  },
  {
   "cell_type": "code",
   "execution_count": null,
   "metadata": {},
   "outputs": [],
   "source": []
  }
 ],
 "metadata": {
  "kernelspec": {
   "display_name": "Python 3",
   "language": "python",
   "name": "python3"
  },
  "language_info": {
   "codemirror_mode": {
    "name": "ipython",
    "version": 3
   },
   "file_extension": ".py",
   "mimetype": "text/x-python",
   "name": "python",
   "nbconvert_exporter": "python",
   "pygments_lexer": "ipython3",
   "version": "3.7.4"
  }
 },
 "nbformat": 4,
 "nbformat_minor": 4
}
