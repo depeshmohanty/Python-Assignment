{
 "cells": [
  {
   "cell_type": "markdown",
   "metadata": {},
   "source": [
    "Q1. What is the purpose of Python's OOP?"
   ]
  },
  {
   "cell_type": "markdown",
   "metadata": {},
   "source": [
    "In Python, object-oriented Programming (OOPs) is a programming paradigm that uses objects and classes in programming. \n",
    "It aims to implement real-world entities like inheritance, polymorphisms, encapsulation"
   ]
  },
  {
   "cell_type": "markdown",
   "metadata": {},
   "source": [
    "Q2. Where does an inheritance search look for an attribute?\n"
   ]
  },
  {
   "cell_type": "raw",
   "metadata": {},
   "source": [
    "In Python, inheritance happens when an object is qualified, and involves searching an attribute definition tree \n",
    "(one or more namespaces). Every time you use an expression of the form object.attr where object is an instance or class object,\n",
    "Python searches the namespace tree at and above object, for the first attr it can find. Because lower definitions in the tree\n",
    "override higher ones, inheritance forms the basis of specialization"
   ]
  },
  {
   "cell_type": "markdown",
   "metadata": {},
   "source": [
    "Q3. How do you distinguish between a class object and an instance object?"
   ]
  },
  {
   "cell_type": "raw",
   "metadata": {},
   "source": [
    "A class is an entity that determines how an object will behave and what the object will contain. In other words, \n",
    "it is a blueprint or a set of instruction to build a specific type of object.\n",
    "\n",
    "An object is nothing but a self-contained component that consists of methods and properties to make a data useful. It helps you\n",
    "to determines the behavior of the class.\n",
    "For example, when you send a message to an object, you are asking the object to invoke or execute one of its methods."
   ]
  },
  {
   "cell_type": "markdown",
   "metadata": {},
   "source": [
    "Q4. What makes the first argument in a class’s method function special?"
   ]
  },
  {
   "cell_type": "raw",
   "metadata": {},
   "source": [
    "The first argument of every class method, including init, is always a reference to the current instance of the class. \n",
    "By convention, this argument is always named self. In the init method, self refers to the newly created object; in other class\n",
    "methods, it refers to the instance whose method was called"
   ]
  },
  {
   "cell_type": "markdown",
   "metadata": {},
   "source": [
    "Q5. What is the purpose of the __init__ method?"
   ]
  },
  {
   "cell_type": "raw",
   "metadata": {},
   "source": [
    "The __init__ method is similar to constructors in C++ and Java . Constructors are used to initialize the object's state. \n",
    "The task of constructors is to initialize(assign values) to the data members of the class when an object of class is created."
   ]
  },
  {
   "cell_type": "markdown",
   "metadata": {},
   "source": [
    "Q6. What is the process for creating a class instance?"
   ]
  },
  {
   "cell_type": "raw",
   "metadata": {},
   "source": [
    "Call ClassName() to create a new instance of the class ClassName . To pass parameters to the class instance, the class must \n",
    "have an __init__() method. Pass the parameters in the constructor of the class"
   ]
  },
  {
   "cell_type": "markdown",
   "metadata": {},
   "source": [
    "Q7. What is the process for creating a class?"
   ]
  },
  {
   "cell_type": "raw",
   "metadata": {},
   "source": [
    "Classes are created by keyword class.\n",
    "Attributes are the variables that belong to a class.\n",
    "Attributes are always public and can be accessed using the dot (.) operator. Eg.: Myclass.Myattribute"
   ]
  },
  {
   "cell_type": "markdown",
   "metadata": {},
   "source": [
    "Q8. How would you define the superclasses of a class?"
   ]
  },
  {
   "cell_type": "raw",
   "metadata": {},
   "source": [
    "The class from which a class inherits is called the parent or superclass. A class which inherits from a superclass is called a \n",
    "subclass, also called heir class or child class. Superclasses are sometimes called ancestors as well."
   ]
  },
  {
   "cell_type": "code",
   "execution_count": null,
   "metadata": {},
   "outputs": [],
   "source": []
  }
 ],
 "metadata": {
  "kernelspec": {
   "display_name": "Python 3",
   "language": "python",
   "name": "python3"
  },
  "language_info": {
   "codemirror_mode": {
    "name": "ipython",
    "version": 3
   },
   "file_extension": ".py",
   "mimetype": "text/x-python",
   "name": "python",
   "nbconvert_exporter": "python",
   "pygments_lexer": "ipython3",
   "version": "3.7.4"
  }
 },
 "nbformat": 4,
 "nbformat_minor": 4
}
