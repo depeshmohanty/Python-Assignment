{
 "cells": [
  {
   "cell_type": "markdown",
   "metadata": {},
   "source": [
    "1.Write a Python program to find sum of elements in list?"
   ]
  },
  {
   "cell_type": "code",
   "execution_count": 1,
   "metadata": {},
   "outputs": [
    {
     "name": "stdout",
     "output_type": "stream",
     "text": [
      "sum is : 30\n"
     ]
    }
   ],
   "source": [
    "a = [10,2,3,4,5,6]\n",
    "total=0\n",
    "for i in a :\n",
    "    total += i\n",
    "print('sum is :',total)"
   ]
  },
  {
   "cell_type": "markdown",
   "metadata": {},
   "source": [
    "2.\tWrite a Python program to  Multiply all numbers in the list?"
   ]
  },
  {
   "cell_type": "code",
   "execution_count": 3,
   "metadata": {},
   "outputs": [
    {
     "name": "stdout",
     "output_type": "stream",
     "text": [
      "multiply value is: 7200\n"
     ]
    }
   ],
   "source": [
    "a = [10,2,3,4,5,6]\n",
    "total=1\n",
    "for i in a:\n",
    "    total = total*i\n",
    "print('multiply value is:',total)"
   ]
  },
  {
   "cell_type": "markdown",
   "metadata": {},
   "source": [
    "3.\tWrite a Python program to find smallest number in a list?"
   ]
  },
  {
   "cell_type": "code",
   "execution_count": 4,
   "metadata": {},
   "outputs": [
    {
     "name": "stdout",
     "output_type": "stream",
     "text": [
      "How many numbers? 3\n",
      "Enter number: 22\n",
      "Enter number: 78\n",
      "Enter number: 2\n",
      "Smallest element of the list is : 2\n"
     ]
    }
   ],
   "source": [
    "lis = []\n",
    "count = int(input('How many numbers? '))\n",
    "\n",
    "for n in range(count):\n",
    "    number = int(input('Enter number: '))\n",
    "    lis.append(number)\n",
    "\n",
    "print(\"Smallest element of the list is :\", min(lis))"
   ]
  },
  {
   "cell_type": "markdown",
   "metadata": {},
   "source": [
    "4.\tWrite a Python program to find largest number in a list?"
   ]
  },
  {
   "cell_type": "code",
   "execution_count": 5,
   "metadata": {},
   "outputs": [
    {
     "name": "stdout",
     "output_type": "stream",
     "text": [
      "How many numbers? 3\n",
      "Enter number: 22\n",
      "Enter number: 77\n",
      "Enter number: 105\n",
      "Smallest element of the list is : 105\n"
     ]
    }
   ],
   "source": [
    "lis = []\n",
    "count = int(input('How many numbers? '))\n",
    "\n",
    "for n in range(count):\n",
    "    number = int(input('Enter number: '))\n",
    "    lis.append(number)\n",
    "\n",
    "print(\"Smallest element of the list is :\", max(lis))"
   ]
  },
  {
   "cell_type": "markdown",
   "metadata": {},
   "source": [
    "5.\tWrite a Python program to find second largest number in a list?"
   ]
  },
  {
   "cell_type": "code",
   "execution_count": 6,
   "metadata": {},
   "outputs": [
    {
     "name": "stdout",
     "output_type": "stream",
     "text": [
      "How many numbers? 3\n",
      "Enter number: 11\n",
      "Enter number: 58\n",
      "Enter number: 36\n",
      "Second largest element of the list is : 36\n"
     ]
    }
   ],
   "source": [
    "lis = []\n",
    "count = int(input('How many numbers? '))\n",
    "\n",
    "for n in range(count):\n",
    "    number = int(input('Enter number: '))\n",
    "    lis.append(number)\n",
    "lis.sort()\n",
    "print(\"Second largest element of the list is :\", lis[-2])"
   ]
  },
  {
   "cell_type": "markdown",
   "metadata": {},
   "source": [
    "6.\tWrite a Python program to find N largest elements from a list?"
   ]
  },
  {
   "cell_type": "code",
   "execution_count": 9,
   "metadata": {},
   "outputs": [
    {
     "name": "stdout",
     "output_type": "stream",
     "text": [
      "[85, 41]\n"
     ]
    }
   ],
   "source": [
    "def Nmaxelements(list1, N):\n",
    "    final_list = []\n",
    " \n",
    "    for i in range(0, N): \n",
    "        max1 = 0\n",
    "         \n",
    "        for j in range(len(list1)):     \n",
    "            if list1[j] > max1:\n",
    "                max1 = list1[j];\n",
    "                 \n",
    "        list1.remove(max1);\n",
    "        final_list.append(max1)\n",
    "         \n",
    "    print(final_list)\n",
    " \n",
    "list1 = [2, 6, 41, 85, 0, 3, 7, 6, 10]\n",
    "N = 2\n",
    " \n",
    "# Calling the function\n",
    "Nmaxelements(list1, N)"
   ]
  },
  {
   "cell_type": "markdown",
   "metadata": {},
   "source": [
    "7.\tWrite a Python program to print even numbers in a list?"
   ]
  },
  {
   "cell_type": "code",
   "execution_count": 5,
   "metadata": {},
   "outputs": [
    {
     "name": "stdout",
     "output_type": "stream",
     "text": [
      "10  2  40  "
     ]
    }
   ],
   "source": [
    "lis = [10,2,33,40,13]\n",
    "for i in lis:\n",
    "    if i%2==0:\n",
    "        print(i,end=\"  \")"
   ]
  },
  {
   "cell_type": "markdown",
   "metadata": {},
   "source": [
    "8.\tWrite a Python program to print odd numbers in a List"
   ]
  },
  {
   "cell_type": "code",
   "execution_count": 7,
   "metadata": {},
   "outputs": [
    {
     "name": "stdout",
     "output_type": "stream",
     "text": [
      "33  13  "
     ]
    }
   ],
   "source": [
    "lis = [10,2,33,40,13]\n",
    "for i in lis:\n",
    "    if i%2!=0:\n",
    "        print(i,end=\"  \")"
   ]
  },
  {
   "cell_type": "markdown",
   "metadata": {},
   "source": [
    "9.\tWrite a Python program to Remove empty List from List?"
   ]
  },
  {
   "cell_type": "code",
   "execution_count": 8,
   "metadata": {},
   "outputs": [
    {
     "name": "stdout",
     "output_type": "stream",
     "text": [
      "Original list:\n",
      "[[], [], [], 'Red', 'Green', [1, 2], 'Blue', [], []]\n",
      "\n",
      "After deleting the empty lists from the said lists of lists\n",
      "['Red', 'Green', [1, 2], 'Blue']\n"
     ]
    }
   ],
   "source": [
    "list1 = [[], [], [], 'Red', 'Green', [1,2], 'Blue', [], []]\n",
    "print(\"Original list:\")\n",
    "print(list1)\n",
    "print(\"\\nAfter deleting the empty lists from the said lists of lists\")\n",
    "list2 = [x for x in list1 if x]\n",
    "print(list2)\n"
   ]
  },
  {
   "cell_type": "markdown",
   "metadata": {},
   "source": [
    "10.\tWrite a Python program to Cloning or Copying a list?"
   ]
  },
  {
   "cell_type": "code",
   "execution_count": 10,
   "metadata": {},
   "outputs": [
    {
     "name": "stdout",
     "output_type": "stream",
     "text": [
      "[10, 22, 44, 23, 4]\n",
      "[10, 22, 44, 23, 4]\n"
     ]
    }
   ],
   "source": [
    "original_list = [10, 22, 44, 23, 4]\n",
    "new_list = list(original_list)\n",
    "print(original_list)\n",
    "print(new_list)\n"
   ]
  },
  {
   "cell_type": "markdown",
   "metadata": {},
   "source": [
    "11.\tWrite a Python program to Count occurrences of an element in a list?"
   ]
  },
  {
   "cell_type": "code",
   "execution_count": 11,
   "metadata": {},
   "outputs": [
    {
     "name": "stdout",
     "output_type": "stream",
     "text": [
      "8 has occurred 5 times\n"
     ]
    }
   ],
   "source": [
    "def countX(lst, x):\n",
    "    count = 0\n",
    "    for ele in lst:\n",
    "        if (ele == x):\n",
    "            count = count + 1\n",
    "    return count\n",
    "lst = [8, 6, 8, 10, 8, 20, 10, 8, 8]\n",
    "x = 8\n",
    "print('{} has occurred {} times'.format(x, countX(lst, x)))"
   ]
  },
  {
   "cell_type": "code",
   "execution_count": null,
   "metadata": {},
   "outputs": [],
   "source": []
  }
 ],
 "metadata": {
  "kernelspec": {
   "display_name": "Python 3",
   "language": "python",
   "name": "python3"
  },
  "language_info": {
   "codemirror_mode": {
    "name": "ipython",
    "version": 3
   },
   "file_extension": ".py",
   "mimetype": "text/x-python",
   "name": "python",
   "nbconvert_exporter": "python",
   "pygments_lexer": "ipython3",
   "version": "3.7.4"
  }
 },
 "nbformat": 4,
 "nbformat_minor": 4
}
