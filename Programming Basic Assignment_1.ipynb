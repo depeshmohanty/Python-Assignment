{
 "cells": [
  {
   "cell_type": "markdown",
   "metadata": {},
   "source": [
    "1.Write a Python program to print \"Hello Python\"?"
   ]
  },
  {
   "cell_type": "code",
   "execution_count": 2,
   "metadata": {},
   "outputs": [
    {
     "name": "stdout",
     "output_type": "stream",
     "text": [
      "Hello Python\n"
     ]
    }
   ],
   "source": [
    "a = 'Hello Python'\n",
    "print(a)"
   ]
  },
  {
   "cell_type": "markdown",
   "metadata": {},
   "source": [
    "2.Write a Python program to do arithmetical operations addition and division.?"
   ]
  },
  {
   "cell_type": "code",
   "execution_count": 7,
   "metadata": {},
   "outputs": [
    {
     "name": "stdout",
     "output_type": "stream",
     "text": [
      "enter the first number30\n",
      "enter the second number20\n",
      "addition of two numbers is : 50.0\n",
      "subtraction of two numbers is : 10.0\n",
      "multiplication of two numbers is : 600.0\n",
      "division of two numbers is : 1.5\n"
     ]
    }
   ],
   "source": [
    "no1 = float(input('enter the first number'))\n",
    "no2 = float(input('enter the second number'))\n",
    "\n",
    "add = no1 + no2\n",
    "sub = no1 - no2\n",
    "mul = no1*no2\n",
    "div = no1/no2\n",
    "\n",
    "print('addition of two numbers is :',add)\n",
    "print('subtraction of two numbers is :',sub)\n",
    "print('multiplication of two numbers is :',mul)\n",
    "print('division of two numbers is :',div)\n"
   ]
  },
  {
   "cell_type": "markdown",
   "metadata": {},
   "source": [
    "3.Write a Python program to find the area of a triangle?"
   ]
  },
  {
   "cell_type": "code",
   "execution_count": 9,
   "metadata": {},
   "outputs": [
    {
     "name": "stdout",
     "output_type": "stream",
     "text": [
      "enter the base in cm: 20\n",
      "enter the height in cm: 30\n",
      "area the traingle in sq cm=  300.0\n"
     ]
    }
   ],
   "source": [
    "base = float(input('enter the base in cm: '))\n",
    "height = float(input('enter the height in cm: '))\n",
    "area = 0.5*base*height\n",
    "print('area the traingle in sq cm= ',area)"
   ]
  },
  {
   "cell_type": "markdown",
   "metadata": {},
   "source": [
    "4.Write a Python program to swap two variables?"
   ]
  },
  {
   "cell_type": "code",
   "execution_count": 14,
   "metadata": {},
   "outputs": [
    {
     "name": "stdout",
     "output_type": "stream",
     "text": [
      "enter the value of x : 10\n",
      "enter the value of y : 20\n",
      "after swapping x = 20\n",
      "after swapping y = 10\n"
     ]
    }
   ],
   "source": [
    "x = input('enter the value of x : ')\n",
    "y = input('enter the value of y : ')\n",
    "\n",
    "x, y = y, x\n",
    "print(\"after swapping x =\", x)\n",
    "print(\"after swapping y =\", y)\n"
   ]
  },
  {
   "cell_type": "markdown",
   "metadata": {},
   "source": [
    "5.Write a Python program to generate a random number?"
   ]
  },
  {
   "cell_type": "code",
   "execution_count": 16,
   "metadata": {},
   "outputs": [
    {
     "name": "stdout",
     "output_type": "stream",
     "text": [
      "0.3661442184172775\n"
     ]
    }
   ],
   "source": [
    "import random\n",
    "n = random.random()\n",
    "print(n)"
   ]
  },
  {
   "cell_type": "code",
   "execution_count": null,
   "metadata": {},
   "outputs": [],
   "source": []
  }
 ],
 "metadata": {
  "kernelspec": {
   "display_name": "Python 3",
   "language": "python",
   "name": "python3"
  },
  "language_info": {
   "codemirror_mode": {
    "name": "ipython",
    "version": 3
   },
   "file_extension": ".py",
   "mimetype": "text/x-python",
   "name": "python",
   "nbconvert_exporter": "python",
   "pygments_lexer": "ipython3",
   "version": "3.7.4"
  }
 },
 "nbformat": 4,
 "nbformat_minor": 4
}
